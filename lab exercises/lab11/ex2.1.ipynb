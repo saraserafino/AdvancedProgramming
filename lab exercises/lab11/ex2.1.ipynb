{
 "cells": [
  {
   "cell_type": "code",
   "execution_count": 2,
   "id": "e4e3ff85",
   "metadata": {},
   "outputs": [],
   "source": [
    "from scipy.sparse import diags\n",
    "import numpy as np\n",
    "\n",
    "# 1: Solving a linear system of equations\n",
    "# Define a 100x100 sparse tridiagonal matrix A, with 2 over the\n",
    "# main diagonal and -1 over the first lower and upper diagonals\n",
    "\n",
    "n = 100\n",
    "diagonals = [2 * np.ones(n), -1 * np.ones(n-1), -1 * np.ones(n+1)]\n",
    "A = diags(diagonals, [0, 1, -1], format='csr')\n",
    "# [0, 1, -1] is the offsets i.e. the diagonals to set\n",
    "# CSR is the format for the sparse matrix"
   ]
  },
  {
   "cell_type": "code",
   "execution_count": 5,
   "id": "81d465f1",
   "metadata": {},
   "outputs": [],
   "source": [
    "from scipy.sparse.linalg import spsolve\n",
    "# Let b = Ax_{ex} where x_{ex}=[1,..,1]^T in R^100\n",
    "x_ex = np.ones(n)\n",
    "b = A @ x_ex\n",
    "\n",
    "# Solve the linear system Ax=b\n",
    "x = spsolve(A, b)"
   ]
  },
  {
   "cell_type": "code",
   "execution_count": 6,
   "id": "e7e60d59",
   "metadata": {},
   "outputs": [],
   "source": [
    "from scipy.linalg import norm\n",
    "# Compute the residual ||b-Ax|| in norm 1, 2 and infinity\n",
    "residual = b - A @ x\n",
    "\n",
    "norm1_res = norm(residual, 1)\n",
    "norm2_res = norm(residual, 2)\n",
    "norm_inf_res = norm(residual, np.inf)\n",
    "\n",
    "# Compute the error ||x-x_{ex}|| in norm 1, 2 and infinity\n",
    "error = x - x_ex\n",
    "\n",
    "norm1_err = norm(error, 1)\n",
    "norm2_err = norm(error, 2)\n",
    "norm_inf_err = norm(error, np.inf)"
   ]
  }
 ],
 "metadata": {
  "kernelspec": {
   "display_name": "Python 3 (ipykernel)",
   "language": "python",
   "name": "python3"
  },
  "language_info": {
   "codemirror_mode": {
    "name": "ipython",
    "version": 3
   },
   "file_extension": ".py",
   "mimetype": "text/x-python",
   "name": "python",
   "nbconvert_exporter": "python",
   "pygments_lexer": "ipython3",
   "version": "3.11.3"
  }
 },
 "nbformat": 4,
 "nbformat_minor": 5
}
