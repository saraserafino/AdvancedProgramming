{
 "cells": [
  {
   "cell_type": "code",
   "execution_count": 2,
   "id": "15f012bf",
   "metadata": {},
   "outputs": [],
   "source": [
    "import numpy as np\n",
    "# 1: Array creation and manipulation"
   ]
  },
  {
   "cell_type": "code",
   "execution_count": 20,
   "id": "9c5cfbca",
   "metadata": {},
   "outputs": [
    {
     "name": "stdout",
     "output_type": "stream",
     "text": [
      "[[ 3  6  8  1  4]\n",
      " [ 8  6  6  3  3]\n",
      " [10  4  5  8  1]\n",
      " [10  4  9  4  8]\n",
      " [ 9  1  8  3  3]]\n"
     ]
    }
   ],
   "source": [
    "# Create a NumPy array of shape 5x5 filled with random int in [1,10]\n",
    "A = np.random.randint(1,11, size=(5,5))\n",
    "print(A)"
   ]
  },
  {
   "cell_type": "code",
   "execution_count": 21,
   "id": "d4ea19bd",
   "metadata": {},
   "outputs": [],
   "source": [
    "# Extract second row, third column and the diagonal elements\n",
    "second_row = A[1, :]\n",
    "third_column = A[:, 2]\n",
    "diagonal = np.diag(A)"
   ]
  },
  {
   "cell_type": "code",
   "execution_count": 22,
   "id": "86784083",
   "metadata": {},
   "outputs": [
    {
     "data": {
      "text/plain": [
       "array([[ 3,  6,  8,  1,  4,  8,  6,  6,  3,  3, 10,  4,  5,  8,  1, 10,\n",
       "         4,  9,  4,  8,  9,  1,  8,  3,  3]])"
      ]
     },
     "execution_count": 22,
     "metadata": {},
     "output_type": "execute_result"
    }
   ],
   "source": [
    "# Reshape it into a 1D array of shape 1x25\n",
    "A.reshape((1,25))"
   ]
  },
  {
   "cell_type": "code",
   "execution_count": 3,
   "id": "aab8510d",
   "metadata": {},
   "outputs": [
    {
     "name": "stdout",
     "output_type": "stream",
     "text": [
      "Element wise product = [[36 16 56]\n",
      " [ 5 16 42]\n",
      " [ 8 63 30]]\n",
      "Matrix product = [[ 47  95  77]\n",
      " [ 56  99  85]\n",
      " [ 89 150 136]]\n"
     ]
    }
   ],
   "source": [
    "# 2: Linear algebra operations\n",
    "# Generate two 3x3 matrices with random integers from 1 to 10\n",
    "B = np.random.randint(1,11, size=(3,3))\n",
    "C = np.random.randint(1,11, size=(3,3))\n",
    "\n",
    "# Perform element-wise and matrix-matrix multiplication\n",
    "print(f\"Element wise product = {B * C}\")\n",
    "print(f\"Matrix product = {B @ C}\")\n",
    "# or np.dot(B,C)"
   ]
  },
  {
   "cell_type": "code",
   "execution_count": 4,
   "id": "77e8c7d9",
   "metadata": {},
   "outputs": [
    {
     "name": "stdout",
     "output_type": "stream",
     "text": [
      "Inverse: [[ 2.49722447 -0.06084252 -2.48848266]\n",
      " [-0.84009663 -0.62965108  2.46714428]\n",
      " [-1.67356799  1.96107099 -0.00942222]]\n",
      "Determinant: -0.19632283141048934\n"
     ]
    }
   ],
   "source": [
    "# Create a 3x3 matrix with random values, compute its inverse and det\n",
    "D = np.random.rand(3,3)\n",
    "print(f\"Inverse: {np.linalg.inv(D)}\")\n",
    "print(f\"Determinant: {np.linalg.det(D)}\")"
   ]
  },
  {
   "cell_type": "code",
   "execution_count": 6,
   "id": "466917ab",
   "metadata": {},
   "outputs": [
    {
     "name": "stdout",
     "output_type": "stream",
     "text": [
      "Mean: 48.55\n",
      "Median: 51.0\n",
      "Standard deviation: 27.335828138177924\n",
      "Variance: 747.2475\n"
     ]
    }
   ],
   "source": [
    "# 3: Statistical analysis\n",
    "# Generate a 1D NumPy array with 20 random integers between 1 and 100\n",
    "random_array = np.random.randint(1,101,20)\n",
    "# Calculate mean, median, standard deviation and variance\n",
    "print(f\"Mean: {np.mean(random_array)}\")\n",
    "print(f\"Median: {np.median(random_array)}\")\n",
    "print(f\"Standard deviation: {np.std(random_array)}\")\n",
    "print(f\"Variance: {np.var(random_array)}\")"
   ]
  }
 ],
 "metadata": {
  "kernelspec": {
   "display_name": "Python 3 (ipykernel)",
   "language": "python",
   "name": "python3"
  },
  "language_info": {
   "codemirror_mode": {
    "name": "ipython",
    "version": 3
   },
   "file_extension": ".py",
   "mimetype": "text/x-python",
   "name": "python",
   "nbconvert_exporter": "python",
   "pygments_lexer": "ipython3",
   "version": "3.11.3"
  }
 },
 "nbformat": 4,
 "nbformat_minor": 5
}
