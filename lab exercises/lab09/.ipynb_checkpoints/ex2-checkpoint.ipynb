{
 "cells": [
  {
   "cell_type": "code",
   "execution_count": null,
   "id": "a6c161ae",
   "metadata": {},
   "outputs": [],
   "source": [
    "#!/usr/bin/env python3"
   ]
  },
  {
   "cell_type": "code",
   "execution_count": 1,
   "id": "eaa584cc",
   "metadata": {},
   "outputs": [
    {
     "name": "stdout",
     "output_type": "stream",
     "text": [
      "google\n"
     ]
    }
   ],
   "source": [
    "#1: create a function that grabs the website domain from a url string\n",
    "def website(url):\n",
    "    return url.split(\".\")[1]\n",
    "\n",
    "print(website(\"www.google.com\"))"
   ]
  },
  {
   "cell_type": "code",
   "execution_count": 2,
   "id": "1bdfaa4e",
   "metadata": {},
   "outputs": [
    {
     "name": "stdout",
     "output_type": "stream",
     "text": [
      "False\n",
      "True\n"
     ]
    }
   ],
   "source": [
    "#2: create a function that accepts two integers and returns true if a\n",
    "# is divisible by b without remainder\n",
    "def divisible(a, b):\n",
    "    return True if a % b == 0 else False\n",
    "\n",
    "print(divisible(10, 3))\n",
    "print(divisible(6, 3))"
   ]
  },
  {
   "cell_type": "code",
   "execution_count": 3,
   "id": "199cf4ea",
   "metadata": {},
   "outputs": [
    {
     "name": "stdout",
     "output_type": "stream",
     "text": [
      "[1, 4, 9, 16, 25, 36, 49, 64, 81]\n"
     ]
    }
   ],
   "source": [
    "#3: use list comprehension to square every number of this list:\n",
    "l = [1, 2, 3, 4, 5, 6, 7, 8, 9]\n",
    "print([_ ** 2 for _ in l])"
   ]
  },
  {
   "cell_type": "code",
   "execution_count": 4,
   "id": "52943f71",
   "metadata": {},
   "outputs": [
    {
     "name": "stdout",
     "output_type": "stream",
     "text": [
      "['Steve Irwin', 'Australia', 'Sydney']\n"
     ]
    }
   ],
   "source": [
    "#4: write a list comprehension that creates a list of only words\n",
    "# that start with a capital letter\n",
    "names = ['Steve Irwin', 'koala', 'kangaroo', 'Australia', 'Sydney', 'desert']\n",
    "print([_ for _ in names if _[0].isupper()])"
   ]
  },
  {
   "cell_type": "code",
   "execution_count": 5,
   "id": "7c40311e",
   "metadata": {},
   "outputs": [
    {
     "name": "stdout",
     "output_type": "stream",
     "text": [
      "{'key-0': 0, 'key-1': 1, 'key-2': 2, 'key-3': 3, 'key-4': 4, 'key-5': 5, 'key-6': 6, 'key-7': 7, 'key-8': 8, 'key-9': 9}\n"
     ]
    }
   ],
   "source": [
    "#5: use dictionary comprehension to create a dictionary of the form\n",
    "# {'key-0': 0, 'key-1': 1, etc}\n",
    "keys = [f\"key-{k}\" for k in range(10)]\n",
    "vals = range(10)\n",
    "print({k:v for k, v in zip(keys, vals)})"
   ]
  },
  {
   "cell_type": "code",
   "execution_count": 6,
   "id": "fd67e207",
   "metadata": {},
   "outputs": [
    {
     "name": "stdout",
     "output_type": "stream",
     "text": [
      "I caught you!\n"
     ]
    }
   ],
   "source": [
    "#6: write a try/except to catch the error generated from the following code\n",
    "# and print \"I caught you\"\n",
    "# catch only the specific error, not all errors\n",
    "try:\n",
    "    5 / 0\n",
    "except ZeroDivisionError:\n",
    "    print(\"I caught you!\")"
   ]
  },
  {
   "cell_type": "code",
   "execution_count": 7,
   "id": "e48d1645",
   "metadata": {},
   "outputs": [
    {
     "name": "stdout",
     "output_type": "stream",
     "text": [
      "[0, 1, 2, 3, 4, 5, 6, 7, 8, 9]\n",
      "[10, 11, 12, 13, 14, 15, 16, 17, 18, 19]\n",
      "[20, 21, 22, 23, 24, 25, 26, 27, 28, 29]\n",
      "[0, 1, 2, 3, 4]\n"
     ]
    }
   ],
   "source": [
    "#7: create a generator function that yields number from 0 to n, in batches of \n",
    "# lists of maximum 10 numbers at a time\n",
    "def listgen(n):\n",
    "    counter = 0\n",
    "    numbers = list(range(n))\n",
    "    while counter <= n // 10:\n",
    "        yield numbers[(10 * counter) : (10 * (counter+1))]\n",
    "        counter += 1\n",
    "\n",
    "g = listgen(100)\n",
    "print(next(g))\n",
    "print(next(g))\n",
    "print(next(g))\n",
    "\n",
    "g = listgen(5)\n",
    "print(next(g))"
   ]
  },
  {
   "cell_type": "code",
   "execution_count": 8,
   "id": "e4193154",
   "metadata": {},
   "outputs": [
    {
     "name": "stdout",
     "output_type": "stream",
     "text": [
      "[[1, 5, 9], [2, 6, 10], [3, 7, 11], [4, 8, 12]]\n"
     ]
    }
   ],
   "source": [
    "#8: given this 3x4 matrix implemented as a list of lists, write a list\n",
    "# comprehension that creates its transpose\n",
    "matrix = [[1, 2, 3, 4], [5, 6, 7, 8], [9, 10, 11, 12]]\n",
    "print([[row[i] for row in matrix] for i in range(4)])"
   ]
  },
  {
   "cell_type": "code",
   "execution_count": 9,
   "id": "dd166d8d",
   "metadata": {},
   "outputs": [
    {
     "name": "stdout",
     "output_type": "stream",
     "text": [
      "10\n",
      "1\n",
      "0\n"
     ]
    }
   ],
   "source": [
    "#9: create a function that takes all the integers a user enters\n",
    "# and returns their sum. However if one of the values is 13, it doesn't\n",
    "# count towards the sum, nor do any values to its rights\n",
    "def lucky_sum(*args):\n",
    "    if 13 in args:\n",
    "        return sum(args[:args.index(13)])\n",
    "    return sum(args)\n",
    "\n",
    "print(lucky_sum(1, 2, 3, 4))\n",
    "print(lucky_sum(1, 13, 3, 4))\n",
    "print(lucky_sum(13))"
   ]
  },
  {
   "cell_type": "code",
   "execution_count": 10,
   "id": "05f29580",
   "metadata": {},
   "outputs": [
    {
     "name": "stdout",
     "output_type": "stream",
     "text": [
      "EEG signal:  [[[8, 9], 1], [[3, 3], 2], [[2, 3], 2]]\n",
      "EEG signals (using for loop): [8, 9, 3, 3, 2, 3]\n",
      "Events (using for loop): [1, 2, 2]\n",
      "EEG signals (using list comprehension): [8, 9, 3, 3, 2, 3]\n",
      "Events (using list comprehension): [1, 2, 2]\n"
     ]
    }
   ],
   "source": [
    "#10: print only the EEG signal and events separately from this nested list\n",
    "# using for loop and list comprehension\n",
    "two_channel_eeg_signal1 = [8, 9]\n",
    "event1 = 1\n",
    "\n",
    "two_channel_eeg_signal2 = [3, 3]\n",
    "event2 = 2\n",
    "\n",
    "two_channel_eeg_signal3 = [2, 3]\n",
    "event3 = 2\n",
    "\n",
    "nested_list = []\n",
    "nested_list.append([two_channel_eeg_signal1, event1])\n",
    "nested_list.append([two_channel_eeg_signal2, event2])\n",
    "nested_list.append([two_channel_eeg_signal3, event3])\n",
    "print(\"EEG signal: \", nested_list)\n",
    "\n",
    "# (1) Using a for loop.\n",
    "eeg_signals = []\n",
    "events = []\n",
    "\n",
    "for item in nested_list:\n",
    "    #eeg_signals.append(item[0]) # Create a list of lists.\n",
    "    eeg_signals.extend(item[0]) # Flattened.\n",
    "    events.append(item[1])\n",
    "\n",
    "print(\"EEG signals (using for loop):\", eeg_signals)\n",
    "print(\"Events (using for loop):\", events)\n",
    "\n",
    "# (2) Using list comprehension.\n",
    "#eeg_signals = [item[0] for item in nested_list] # Create a list of lists.\n",
    "eeg_signals = [value for item in nested_list for value in item[0]] # Flattened.\n",
    "events = [item[1] for item in nested_list]\n",
    "\n",
    "print(\"EEG signals (using list comprehension):\", eeg_signals)\n",
    "print(\"Events (using list comprehension):\", events)"
   ]
  },
  {
   "cell_type": "code",
   "execution_count": null,
   "id": "157bdb51",
   "metadata": {},
   "outputs": [],
   "source": []
  }
 ],
 "metadata": {
  "kernelspec": {
   "display_name": "Python 3 (ipykernel)",
   "language": "python",
   "name": "python3"
  },
  "language_info": {
   "codemirror_mode": {
    "name": "ipython",
    "version": 3
   },
   "file_extension": ".py",
   "mimetype": "text/x-python",
   "name": "python",
   "nbconvert_exporter": "python",
   "pygments_lexer": "ipython3",
   "version": "3.11.3"
  }
 },
 "nbformat": 4,
 "nbformat_minor": 5
}
