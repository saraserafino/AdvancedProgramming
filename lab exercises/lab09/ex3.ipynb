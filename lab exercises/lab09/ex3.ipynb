{
 "cells": [
  {
   "cell_type": "code",
   "execution_count": 1,
   "id": "0436be2a",
   "metadata": {},
   "outputs": [
    {
     "name": "stdout",
     "output_type": "stream",
     "text": [
      "Symmetric difference (manual): {1, 2, 5, 6}\n",
      "Symmetric difference (built-in): {1, 2, 5, 6}\n"
     ]
    }
   ],
   "source": [
    "#!/usr/bin/env python3\n",
    "\n",
    "def symmetric_difference(set1, set2):\n",
    "    \"\"\"\n",
    "    Compute the symmetric difference between two sets manually.\n",
    "    \n",
    "    Parameters\n",
    "    ----------\n",
    "    - set1 : set\n",
    "             the first set\n",
    "    - set2 : set\n",
    "             the second set\n",
    "    \n",
    "    Returns\n",
    "    -------\n",
    "    set\n",
    "        the symmetric difference between set1 and set2\n",
    "\n",
    "    Examples\n",
    "    --------\n",
    "    >>> symmetric_difference({1, 2, 3, 4}, {3, 4, 5, 6})\n",
    "    {1, 2, 5, 6}\n",
    "    \"\"\"\n",
    "    \n",
    "    # Elements in set1 but not in set2.\n",
    "    diff1 = set1.difference(set2)\n",
    "    \n",
    "    # Elements in set2 but not in set1.\n",
    "    diff2 = set2.difference(set1)\n",
    "    \n",
    "    # Symmetric difference is the union of the two differences.\n",
    "    symmetric_diff = diff1.union(diff2)\n",
    "    \n",
    "    return symmetric_diff\n",
    "\n",
    "# Example usage:\n",
    "set_a = {1, 2, 3, 4}\n",
    "set_b = {3, 4, 5, 6}\n",
    "\n",
    "result_manual = symmetric_difference(set_a, set_b)\n",
    "print(\"Symmetric difference (manual):\", result_manual)\n",
    "print(\"Symmetric difference (built-in):\", set_a.symmetric_difference(set_b))\n"
   ]
  }
 ],
 "metadata": {
  "kernelspec": {
   "display_name": "Python 3 (ipykernel)",
   "language": "python",
   "name": "python3"
  },
  "language_info": {
   "codemirror_mode": {
    "name": "ipython",
    "version": 3
   },
   "file_extension": ".py",
   "mimetype": "text/x-python",
   "name": "python",
   "nbconvert_exporter": "python",
   "pygments_lexer": "ipython3",
   "version": "3.11.3"
  }
 },
 "nbformat": 4,
 "nbformat_minor": 5
}
