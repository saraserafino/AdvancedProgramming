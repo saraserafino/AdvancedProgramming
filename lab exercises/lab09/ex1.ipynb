{
 "cells": [
  {
   "cell_type": "code",
   "execution_count": 1,
   "id": "8a643df9",
   "metadata": {},
   "outputs": [
    {
     "name": "stdout",
     "output_type": "stream",
     "text": [
      "3125\n"
     ]
    }
   ],
   "source": [
    "#1: 5 to the power of 5\n",
    "print (5**5)"
   ]
  },
  {
   "cell_type": "code",
   "execution_count": 2,
   "id": "08639eb5",
   "metadata": {},
   "outputs": [
    {
     "name": "stdout",
     "output_type": "stream",
     "text": [
      "4\n"
     ]
    }
   ],
   "source": [
    "#2: remainder from diving 73 by 6\n",
    "print(76 % 6)"
   ]
  },
  {
   "cell_type": "code",
   "execution_count": 4,
   "id": "a45a3029",
   "metadata": {},
   "outputs": [
    {
     "name": "stdout",
     "output_type": "stream",
     "text": [
      "41\n",
      "0\n"
     ]
    }
   ],
   "source": [
    "#3: how many times does the whole number 3 go into 123?\n",
    "print (123 // 3)\n",
    "# What is the remainder of diving 123 by 3?\n",
    "print (123 % 3)"
   ]
  },
  {
   "cell_type": "code",
   "execution_count": 5,
   "id": "f870bd55",
   "metadata": {},
   "outputs": [
    {
     "name": "stdout",
     "output_type": "stream",
     "text": [
      "['apple', 'banana', 'cherry', 'orange']\n"
     ]
    }
   ],
   "source": [
    "#4: split the string\n",
    "s = \"apple#banana#cherry#orange\"\n",
    "# into a list by splitting on the # character\n",
    "print(s.split(\"#\"))"
   ]
  },
  {
   "cell_type": "code",
   "execution_count": 8,
   "id": "34831083",
   "metadata": {},
   "outputs": [
    {
     "name": "stdout",
     "output_type": "stream",
     "text": [
      "fakemail\n"
     ]
    }
   ],
   "source": [
    "#5: Use string methods to extract the website domani from an email\n",
    "email = \"pafrica@fakemail.com\"\n",
    "print(email.split(\"@\")[-1].split(\".com\")[0])"
   ]
  },
  {
   "cell_type": "code",
   "execution_count": 10,
   "id": "af2660eb",
   "metadata": {},
   "outputs": [
    {
     "name": "stdout",
     "output_type": "stream",
     "text": [
      "The speed of light is 2.997925e+08 m/s\n"
     ]
    }
   ],
   "source": [
    "#6: Use f-strings to print \"The speed of light is 2.9.. m/s\"\n",
    "thing = \"light\"\n",
    "speed = 299792458 # m/s\n",
    "print(f\"The speed of {thing} is {speed:2e} m/s\")"
   ]
  },
  {
   "cell_type": "code",
   "execution_count": 17,
   "id": "a544932b",
   "metadata": {},
   "outputs": [
    {
     "name": "stdout",
     "output_type": "stream",
     "text": [
      "['AdvProg']\n",
      "AdvProg\n"
     ]
    }
   ],
   "source": [
    "#7: Use indexing to grab the word \"AdvProg\"\n",
    "l = [10, [3, 4], [5, [100, 200, [\"AdvProg\"]], 23, 11], 1, 7]\n",
    "print(l[2][1][2]) #printa fra ' '\n",
    "print(*l[2][1][2]) #printa il valore"
   ]
  },
  {
   "cell_type": "code",
   "execution_count": 18,
   "id": "65355cc5",
   "metadata": {},
   "outputs": [
    {
     "name": "stdout",
     "output_type": "stream",
     "text": [
      "AdvProg\n"
     ]
    }
   ],
   "source": [
    "#8: Grab the word \"AdvProg\"\n",
    "d = {\n",
    "    \"outer\": [\n",
    "        1,\n",
    "        2,\n",
    "        3,\n",
    "        {\"inner\": [\"this\", \"is\", \"inception\", {\"inner_inner\": [1, 2, 3, \"AdvProg\"]}]},\n",
    "    ]\n",
    "}\n",
    "\n",
    "print(d['outer'][3]['inner'][3]['inner_inner'][3])"
   ]
  },
  {
   "cell_type": "code",
   "execution_count": null,
   "id": "510b4c06",
   "metadata": {},
   "outputs": [],
   "source": [
    "#9: Why does the following cell return an error?\n",
    "t = (1, 2, 3, 4, 5)\n",
    "t[-1] = 6\n",
    "#because it's a tuple so you can't modify it"
   ]
  },
  {
   "cell_type": "code",
   "execution_count": 19,
   "id": "b284f18e",
   "metadata": {},
   "outputs": [
    {
     "name": "stdout",
     "output_type": "stream",
     "text": [
      "I love snakes!\n"
     ]
    }
   ],
   "source": [
    "#10: Given the variable \"language\" which contains a string, use if-elif-else\n",
    "# to write a program that prints...\n",
    "language = \"Python\"\n",
    "if language.lower() == \"python\":\n",
    "    print(\"I love snakes!\")\n",
    "elif language.lower() == \"c++\":\n",
    "    print(\"Are you a pirate?\")\n",
    "else:\n",
    "    print(f\"What is {language}?\")"
   ]
  }
 ],
 "metadata": {
  "kernelspec": {
   "display_name": "Python 3 (ipykernel)",
   "language": "python",
   "name": "python3"
  },
  "language_info": {
   "codemirror_mode": {
    "name": "ipython",
    "version": 3
   },
   "file_extension": ".py",
   "mimetype": "text/x-python",
   "name": "python",
   "nbconvert_exporter": "python",
   "pygments_lexer": "ipython3",
   "version": "3.11.3"
  }
 },
 "nbformat": 4,
 "nbformat_minor": 5
}
